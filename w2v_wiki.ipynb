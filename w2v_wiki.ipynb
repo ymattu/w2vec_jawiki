{
 "cells": [
  {
   "cell_type": "code",
   "execution_count": 2,
   "metadata": {
    "autoscroll": "json-false",
    "collapsed": false,
    "ein.tags": [
     "worksheet-0"
    ],
    "slideshow": {
     "slide_type": "-"
    }
   },
   "outputs": [],
   "source": [
    "from gensim.models import word2vec"
   ]
  },
  {
   "cell_type": "code",
   "execution_count": 10,
   "metadata": {
    "autoscroll": "json-false",
    "collapsed": false,
    "ein.tags": [
     "worksheet-0"
    ],
    "slideshow": {
     "slide_type": "-"
    }
   },
   "outputs": [],
   "source": [
    "# コーパス作成\n",
    "data = word2vec.Text8Corpus('jawiki_abst2.txt')"
   ]
  },
  {
   "cell_type": "code",
   "execution_count": 11,
   "metadata": {
    "autoscroll": "json-false",
    "collapsed": false,
    "ein.tags": [
     "worksheet-0"
    ],
    "slideshow": {
     "slide_type": "-"
    }
   },
   "outputs": [],
   "source": [
    "# word2vecで学習\n",
    "# size      : 出力するベクトルの次元数\n",
    "# min_count : この数値よりも登場回数が少ない単語は無視する\n",
    "# window    : 一つの単語に対してこの数値分だけ前後をチェックする\n",
    "model = word2vec.Word2Vec(data, size=200, min_count=20, window=15)"
   ]
  },
  {
   "cell_type": "code",
   "execution_count": 12,
   "metadata": {
    "autoscroll": "json-false",
    "collapsed": false,
    "ein.tags": [
     "worksheet-0"
    ],
    "slideshow": {
     "slide_type": "-"
    }
   },
   "outputs": [],
   "source": [
    "model.save('jawiki.model')"
   ]
  },
  {
   "cell_type": "code",
   "execution_count": 3,
   "metadata": {
    "autoscroll": "json-false",
    "collapsed": false,
    "ein.tags": [
     "worksheet-0"
    ],
    "slideshow": {
     "slide_type": "-"
    }
   },
   "outputs": [],
   "source": [
    "# 学習後はモデルのロードだけでよい\n",
    "model2 = word2vec.Word2Vec.load('jawiki.model')"
   ]
  },
  {
   "cell_type": "code",
   "execution_count": 24,
   "metadata": {
    "autoscroll": "json-false",
    "collapsed": false,
    "ein.tags": [
     "worksheet-0"
    ],
    "slideshow": {
     "slide_type": "-"
    }
   },
   "outputs": [
    {
     "name": "stdout",
     "output_type": "stream",
     "text": [
      "アイスホッケー 0.7617607116699219\n",
      "アメリカンフットボール 0.7171827554702759\n",
      "サッカー 0.7068909406661987\n",
      "ハンドボール 0.7037357091903687\n",
      "ホッケー 0.6944476366043091\n",
      "バレーボール 0.6637346148490906\n",
      "ラグビー 0.6442294120788574\n",
      "ビーチバレー 0.5943558216094971\n",
      "ラクロス 0.5923136472702026\n",
      "ソフトボール 0.5904837846755981\n"
     ]
    }
   ],
   "source": [
    "# コサイン類似度が高い単語\n",
    "out1 = model2.most_similar(positive=['バスケットボール'])\n",
    "for x in out1:\n",
    "    print(x[0], x[1])"
   ]
  },
  {
   "cell_type": "code",
   "execution_count": 18,
   "metadata": {
    "autoscroll": "json-false",
    "collapsed": false,
    "ein.tags": [
     "worksheet-0"
    ],
    "slideshow": {
     "slide_type": "-"
    }
   },
   "outputs": [
    {
     "name": "stdout",
     "output_type": "stream",
     "text": [
      "ラグビー 0.5908836126327515\n",
      "バスケットボール 0.5135744214057922\n",
      "広島東洋カープ 0.4726068675518036\n",
      "ラグビーフットボール 0.4681321382522583\n",
      "蹴球 0.45226138830184937\n",
      "阪神タイガース 0.4508918225765228\n",
      "バレーボール 0.44429582357406616\n",
      "アイスホッケー 0.44366639852523804\n",
      "クボタスピアーズ 0.4153047800064087\n",
      "投手 0.4129412770271301\n"
     ]
    }
   ],
   "source": [
    "# 単語の足し引き\n",
    "out2 = model2.most_similar(positive=['サッカー', '野球'], negative=['スポーツ'])\n",
    "for x in out2:\n",
    "    print(x[0], x[1])"
   ]
  },
  {
   "cell_type": "code",
   "execution_count": 0,
   "metadata": {
    "autoscroll": "json-false",
    "collapsed": false,
    "ein.tags": [
     "worksheet-0"
    ],
    "slideshow": {
     "slide_type": "-"
    }
   },
   "outputs": [],
   "source": []
  }
 ],
 "metadata": {
  "kernelspec": {
   "display_name": "Python 3",
   "language": "python",
   "name": "python3"
  },
  "language_info": {
   "codemirror_mode": {
    "name": "ipython",
    "version": 3
   },
   "file_extension": ".py",
   "mimetype": "text/x-python",
   "name": "python",
   "nbconvert_exporter": "python",
   "pygments_lexer": "ipython3",
   "version": "3.5.1"
  },
  "name": "w2v_wiki.ipynb"
 },
 "nbformat": 4,
 "nbformat_minor": 0
}
